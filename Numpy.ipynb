{
 "cells": [
  {
   "cell_type": "code",
   "execution_count": 1,
   "id": "b2127257-ff8a-43d5-9c55-de92c7dcbd40",
   "metadata": {},
   "outputs": [],
   "source": [
    "import numpy as np"
   ]
  },
  {
   "cell_type": "code",
   "execution_count": 3,
   "id": "66427c96-c974-4273-bc78-c6b0fdf3be65",
   "metadata": {},
   "outputs": [],
   "source": [
    "l=[1,2,4,5]"
   ]
  },
  {
   "cell_type": "code",
   "execution_count": 4,
   "id": "392339df-59c9-4a25-b6c2-ef280a001435",
   "metadata": {},
   "outputs": [],
   "source": [
    "arr=np.array(l)"
   ]
  },
  {
   "cell_type": "code",
   "execution_count": 5,
   "id": "c323e2f6-6f0d-4d6a-91a5-a2fe9d4ebd10",
   "metadata": {},
   "outputs": [
    {
     "data": {
      "text/plain": [
       "array([1, 2, 4, 5])"
      ]
     },
     "execution_count": 5,
     "metadata": {},
     "output_type": "execute_result"
    }
   ],
   "source": [
    "arr"
   ]
  },
  {
   "cell_type": "code",
   "execution_count": 5,
   "id": "eab601e2-79b5-440e-954f-4f01ca36e87b",
   "metadata": {},
   "outputs": [],
   "source": [
    "arr1=np.matrix(l)"
   ]
  },
  {
   "cell_type": "code",
   "execution_count": 6,
   "id": "2e41d7c0-bf66-4e55-b74a-8520002a36ae",
   "metadata": {},
   "outputs": [
    {
     "data": {
      "text/plain": [
       "matrix([[1, 2, 4, 5]])"
      ]
     },
     "execution_count": 6,
     "metadata": {},
     "output_type": "execute_result"
    }
   ],
   "source": [
    "arr1"
   ]
  },
  {
   "cell_type": "code",
   "execution_count": 7,
   "id": "f3b70a20-d866-4fee-8205-280afc13baaa",
   "metadata": {},
   "outputs": [],
   "source": [
    "a=np.array([1,4,6])"
   ]
  },
  {
   "cell_type": "code",
   "execution_count": 8,
   "id": "f898ef14-67d4-411b-b2ac-c65c53f81e29",
   "metadata": {},
   "outputs": [
    {
     "data": {
      "text/plain": [
       "array([1, 4, 6])"
      ]
     },
     "execution_count": 8,
     "metadata": {},
     "output_type": "execute_result"
    }
   ],
   "source": [
    "a"
   ]
  },
  {
   "cell_type": "code",
   "execution_count": 10,
   "id": "60fe2a62-f570-41b9-89c4-075ba53a33fe",
   "metadata": {},
   "outputs": [],
   "source": [
    "b=a"
   ]
  },
  {
   "cell_type": "code",
   "execution_count": 11,
   "id": "ff05ae42-bbf1-4a22-a34d-73eb73f8be7c",
   "metadata": {},
   "outputs": [
    {
     "data": {
      "text/plain": [
       "array([1, 4, 6])"
      ]
     },
     "execution_count": 11,
     "metadata": {},
     "output_type": "execute_result"
    }
   ],
   "source": [
    "b"
   ]
  },
  {
   "cell_type": "code",
   "execution_count": 12,
   "id": "4d73905f-d7a5-40d9-b3d5-293dc096f755",
   "metadata": {},
   "outputs": [],
   "source": [
    "b[0]=20"
   ]
  },
  {
   "cell_type": "code",
   "execution_count": 13,
   "id": "d9041f88-012a-4cae-a8e0-0e7dd6b7726d",
   "metadata": {},
   "outputs": [
    {
     "data": {
      "text/plain": [
       "array([20,  4,  6])"
      ]
     },
     "execution_count": 13,
     "metadata": {},
     "output_type": "execute_result"
    }
   ],
   "source": [
    "b"
   ]
  },
  {
   "cell_type": "code",
   "execution_count": 14,
   "id": "cdcf35bc-46e2-4dcb-940d-e5023033e3b7",
   "metadata": {},
   "outputs": [
    {
     "data": {
      "text/plain": [
       "array([20,  4,  6])"
      ]
     },
     "execution_count": 14,
     "metadata": {},
     "output_type": "execute_result"
    }
   ],
   "source": [
    "a"
   ]
  },
  {
   "cell_type": "code",
   "execution_count": 15,
   "id": "b289404f-c0ce-40b2-8b67-d60b7323e934",
   "metadata": {},
   "outputs": [],
   "source": [
    "a[2]=399"
   ]
  },
  {
   "cell_type": "code",
   "execution_count": 17,
   "id": "f37a9828-edf4-47f9-b035-3092f3abce77",
   "metadata": {},
   "outputs": [
    {
     "data": {
      "text/plain": [
       "array([ 20,   4, 399])"
      ]
     },
     "execution_count": 17,
     "metadata": {},
     "output_type": "execute_result"
    }
   ],
   "source": [
    "a"
   ]
  },
  {
   "cell_type": "code",
   "execution_count": 19,
   "id": "6daab892-f673-4088-99a9-06c9ee968c7c",
   "metadata": {},
   "outputs": [
    {
     "data": {
      "text/plain": [
       "array([ 20,   4, 399])"
      ]
     },
     "execution_count": 19,
     "metadata": {},
     "output_type": "execute_result"
    }
   ],
   "source": [
    "b"
   ]
  },
  {
   "cell_type": "code",
   "execution_count": 20,
   "id": "c0efc57d-b210-4831-95f5-5cbafd76f5f8",
   "metadata": {},
   "outputs": [],
   "source": [
    "c=np.copy(a)"
   ]
  },
  {
   "cell_type": "code",
   "execution_count": 21,
   "id": "6d4f579e-12a2-4bc3-a055-c44cdeceaca3",
   "metadata": {},
   "outputs": [
    {
     "data": {
      "text/plain": [
       "array([ 20,   4, 399])"
      ]
     },
     "execution_count": 21,
     "metadata": {},
     "output_type": "execute_result"
    }
   ],
   "source": [
    "c"
   ]
  },
  {
   "cell_type": "code",
   "execution_count": 22,
   "id": "7f782054-3655-4ae0-80e1-3ba308ae6b66",
   "metadata": {},
   "outputs": [],
   "source": [
    "c[1]=12"
   ]
  },
  {
   "cell_type": "code",
   "execution_count": 23,
   "id": "6816eb6e-60b0-42ab-829f-4b52d74317b7",
   "metadata": {},
   "outputs": [
    {
     "data": {
      "text/plain": [
       "array([ 20,  12, 399])"
      ]
     },
     "execution_count": 23,
     "metadata": {},
     "output_type": "execute_result"
    }
   ],
   "source": [
    "c"
   ]
  },
  {
   "cell_type": "code",
   "execution_count": 24,
   "id": "2f62833b-2a13-49ab-b458-da804e3cac24",
   "metadata": {},
   "outputs": [
    {
     "data": {
      "text/plain": [
       "array([ 20,   4, 399])"
      ]
     },
     "execution_count": 24,
     "metadata": {},
     "output_type": "execute_result"
    }
   ],
   "source": [
    "a"
   ]
  },
  {
   "cell_type": "code",
   "execution_count": 26,
   "id": "a4f5a13c-7f21-4b8b-901b-e6ce98ee7629",
   "metadata": {},
   "outputs": [
    {
     "data": {
      "text/plain": [
       "array([[ True, False, False],\n",
       "       [False,  True, False],\n",
       "       [False, False,  True]])"
      ]
     },
     "execution_count": 26,
     "metadata": {},
     "output_type": "execute_result"
    }
   ],
   "source": [
    "np.fromfunction(lambda i,j:i==j,(3,3))"
   ]
  },
  {
   "cell_type": "code",
   "execution_count": 27,
   "id": "2385598d-cca6-498b-82f4-6e24463d08d4",
   "metadata": {},
   "outputs": [
    {
     "data": {
      "text/plain": [
       "array([[0., 0., 0.],\n",
       "       [0., 1., 2.],\n",
       "       [0., 2., 4.]])"
      ]
     },
     "execution_count": 27,
     "metadata": {},
     "output_type": "execute_result"
    }
   ],
   "source": [
    "np.fromfunction(lambda i,j:i*j,(3,3))"
   ]
  },
  {
   "cell_type": "code",
   "execution_count": 28,
   "id": "482a1894-4de9-4034-b324-bfcf95f09229",
   "metadata": {},
   "outputs": [
    {
     "data": {
      "text/plain": [
       "array([[0., 1., 2.],\n",
       "       [1., 2., 3.],\n",
       "       [2., 3., 4.]])"
      ]
     },
     "execution_count": 28,
     "metadata": {},
     "output_type": "execute_result"
    }
   ],
   "source": [
    "np.fromfunction(lambda i,j:i+j,(3,3))"
   ]
  },
  {
   "cell_type": "code",
   "execution_count": 29,
   "id": "c150639b-a77d-4779-9911-e0de2bf9a366",
   "metadata": {},
   "outputs": [
    {
     "data": {
      "text/plain": [
       "array([[ 0., -1., -2.],\n",
       "       [ 1.,  0., -1.],\n",
       "       [ 2.,  1.,  0.]])"
      ]
     },
     "execution_count": 29,
     "metadata": {},
     "output_type": "execute_result"
    }
   ],
   "source": [
    "np.fromfunction(lambda i,j:i-j,(3,3))"
   ]
  },
  {
   "cell_type": "code",
   "execution_count": 31,
   "id": "ffb58588-f342-493e-acc3-1ff06111a6ea",
   "metadata": {},
   "outputs": [
    {
     "data": {
      "text/plain": [
       "array([[0., 1., 2.],\n",
       "       [1., 2., 3.],\n",
       "       [4., 5., 6.]])"
      ]
     },
     "execution_count": 31,
     "metadata": {},
     "output_type": "execute_result"
    }
   ],
   "source": [
    "np.fromfunction(lambda i,j:i**2+j,(3,3))"
   ]
  },
  {
   "cell_type": "code",
   "execution_count": 32,
   "id": "31123b83-f4c7-4f36-a816-37c79cbb1474",
   "metadata": {},
   "outputs": [],
   "source": [
    "# Data type"
   ]
  },
  {
   "cell_type": "code",
   "execution_count": 33,
   "id": "9a045906-9198-41e1-ad86-ebfb270f7d27",
   "metadata": {},
   "outputs": [],
   "source": [
    "l=[1,2,3,4,5]"
   ]
  },
  {
   "cell_type": "code",
   "execution_count": 34,
   "id": "b28f88cb-1a99-4f30-b7db-50b4c7d3c274",
   "metadata": {},
   "outputs": [],
   "source": [
    "m=np.array(l)"
   ]
  },
  {
   "cell_type": "code",
   "execution_count": 35,
   "id": "2378e1e5-1845-481a-b527-85a609d94597",
   "metadata": {},
   "outputs": [
    {
     "data": {
      "text/plain": [
       "array([1, 2, 3, 4, 5])"
      ]
     },
     "execution_count": 35,
     "metadata": {},
     "output_type": "execute_result"
    }
   ],
   "source": [
    "m"
   ]
  },
  {
   "cell_type": "code",
   "execution_count": 36,
   "id": "095c791c-9c77-4f40-85e1-4e3ccb19e1f4",
   "metadata": {},
   "outputs": [
    {
     "data": {
      "text/plain": [
       "1"
      ]
     },
     "execution_count": 36,
     "metadata": {},
     "output_type": "execute_result"
    }
   ],
   "source": [
    "m.ndim"
   ]
  },
  {
   "cell_type": "code",
   "execution_count": 37,
   "id": "611d19ea-1588-4b83-a5f6-34596869cc5e",
   "metadata": {},
   "outputs": [],
   "source": [
    "n=np.array([[1,2,3,4],[5,3,4,2]])"
   ]
  },
  {
   "cell_type": "code",
   "execution_count": 38,
   "id": "38287313-ac46-4d41-96cd-75f3052bdec3",
   "metadata": {},
   "outputs": [
    {
     "data": {
      "text/plain": [
       "array([[1, 2, 3, 4],\n",
       "       [5, 3, 4, 2]])"
      ]
     },
     "execution_count": 38,
     "metadata": {},
     "output_type": "execute_result"
    }
   ],
   "source": [
    "n"
   ]
  },
  {
   "cell_type": "code",
   "execution_count": 39,
   "id": "fb1479c8-130c-4e1c-90b0-d669f75f4f10",
   "metadata": {},
   "outputs": [
    {
     "data": {
      "text/plain": [
       "2"
      ]
     },
     "execution_count": 39,
     "metadata": {},
     "output_type": "execute_result"
    }
   ],
   "source": [
    "n.ndim"
   ]
  },
  {
   "cell_type": "code",
   "execution_count": 40,
   "id": "32f241e5-c760-40df-8a16-07fcfcde4e9a",
   "metadata": {},
   "outputs": [
    {
     "data": {
      "text/plain": [
       "5"
      ]
     },
     "execution_count": 40,
     "metadata": {},
     "output_type": "execute_result"
    }
   ],
   "source": [
    "m.size"
   ]
  },
  {
   "cell_type": "code",
   "execution_count": 41,
   "id": "969945f1-815b-4edb-8556-a407db9e98d3",
   "metadata": {},
   "outputs": [
    {
     "data": {
      "text/plain": [
       "8"
      ]
     },
     "execution_count": 41,
     "metadata": {},
     "output_type": "execute_result"
    }
   ],
   "source": [
    "n.size"
   ]
  },
  {
   "cell_type": "code",
   "execution_count": 42,
   "id": "e6fce3d4-425e-4623-97f6-14608e04aa6c",
   "metadata": {},
   "outputs": [
    {
     "data": {
      "text/plain": [
       "(5,)"
      ]
     },
     "execution_count": 42,
     "metadata": {},
     "output_type": "execute_result"
    }
   ],
   "source": [
    "m.shape"
   ]
  },
  {
   "cell_type": "code",
   "execution_count": 43,
   "id": "6b5937f3-fe06-4d10-b657-99282e3faf58",
   "metadata": {},
   "outputs": [
    {
     "data": {
      "text/plain": [
       "(2, 4)"
      ]
     },
     "execution_count": 43,
     "metadata": {},
     "output_type": "execute_result"
    }
   ],
   "source": [
    "n.shape"
   ]
  },
  {
   "cell_type": "code",
   "execution_count": 44,
   "id": "b111a6f1-35e2-41ee-bf9a-2539e1525303",
   "metadata": {},
   "outputs": [
    {
     "data": {
      "text/plain": [
       "array([2.2, 3.2, 4.2])"
      ]
     },
     "execution_count": 44,
     "metadata": {},
     "output_type": "execute_result"
    }
   ],
   "source": [
    "np.arange(2.2,4.5)"
   ]
  },
  {
   "cell_type": "code",
   "execution_count": 45,
   "id": "6dee37d6-dc47-4922-8c3c-4e4aa24960eb",
   "metadata": {},
   "outputs": [
    {
     "data": {
      "text/plain": [
       "array([0., 0., 0.])"
      ]
     },
     "execution_count": 45,
     "metadata": {},
     "output_type": "execute_result"
    }
   ],
   "source": [
    "np.zeros(3)"
   ]
  },
  {
   "cell_type": "code",
   "execution_count": 47,
   "id": "b22f13af-cf22-46c2-941d-65943f2e04e1",
   "metadata": {},
   "outputs": [
    {
     "data": {
      "text/plain": [
       "array([[0., 0., 0.],\n",
       "       [0., 0., 0.],\n",
       "       [0., 0., 0.]])"
      ]
     },
     "execution_count": 47,
     "metadata": {},
     "output_type": "execute_result"
    }
   ],
   "source": [
    "np.zeros((3,3))"
   ]
  },
  {
   "cell_type": "code",
   "execution_count": 48,
   "id": "e845b165-0e75-4fb3-a462-e4f4332595ba",
   "metadata": {},
   "outputs": [
    {
     "data": {
      "text/plain": [
       "array([[[0., 0., 0., 0.],\n",
       "        [0., 0., 0., 0.]],\n",
       "\n",
       "       [[0., 0., 0., 0.],\n",
       "        [0., 0., 0., 0.]],\n",
       "\n",
       "       [[0., 0., 0., 0.],\n",
       "        [0., 0., 0., 0.]]])"
      ]
     },
     "execution_count": 48,
     "metadata": {},
     "output_type": "execute_result"
    }
   ],
   "source": [
    "np.zeros((3,2,4))"
   ]
  },
  {
   "cell_type": "code",
   "execution_count": 55,
   "id": "f44799c1-cb1e-4ea4-ba5c-065bdaa0c069",
   "metadata": {},
   "outputs": [],
   "source": [
    "q=np.ones((3,2,3))"
   ]
  },
  {
   "cell_type": "code",
   "execution_count": 56,
   "id": "36917d11-d43c-470c-a6f4-0819c6b68ebd",
   "metadata": {},
   "outputs": [
    {
     "data": {
      "text/plain": [
       "array([[[1., 1., 1.],\n",
       "        [1., 1., 1.]],\n",
       "\n",
       "       [[1., 1., 1.],\n",
       "        [1., 1., 1.]],\n",
       "\n",
       "       [[1., 1., 1.],\n",
       "        [1., 1., 1.]]])"
      ]
     },
     "execution_count": 56,
     "metadata": {},
     "output_type": "execute_result"
    }
   ],
   "source": [
    "q"
   ]
  },
  {
   "cell_type": "code",
   "execution_count": 57,
   "id": "27ead9fa-9aa4-4c4b-8f86-bed79b11d639",
   "metadata": {},
   "outputs": [
    {
     "data": {
      "text/plain": [
       "array([[[4., 4., 4.],\n",
       "        [4., 4., 4.]],\n",
       "\n",
       "       [[4., 4., 4.],\n",
       "        [4., 4., 4.]],\n",
       "\n",
       "       [[4., 4., 4.],\n",
       "        [4., 4., 4.]]])"
      ]
     },
     "execution_count": 57,
     "metadata": {},
     "output_type": "execute_result"
    }
   ],
   "source": [
    "q+3"
   ]
  },
  {
   "cell_type": "code",
   "execution_count": 59,
   "id": "346447d2-74c4-40f6-b3b3-6111409f0544",
   "metadata": {},
   "outputs": [
    {
     "data": {
      "text/plain": [
       "array([[[5., 5., 5.],\n",
       "        [5., 5., 5.]],\n",
       "\n",
       "       [[5., 5., 5.],\n",
       "        [5., 5., 5.]],\n",
       "\n",
       "       [[5., 5., 5.],\n",
       "        [5., 5., 5.]]])"
      ]
     },
     "execution_count": 59,
     "metadata": {},
     "output_type": "execute_result"
    }
   ],
   "source": [
    "q*5"
   ]
  },
  {
   "cell_type": "code",
   "execution_count": 63,
   "id": "6e0676f8-d6ec-4ec8-859f-b44758824613",
   "metadata": {},
   "outputs": [
    {
     "data": {
      "text/plain": [
       "array([[4.66309238e-310, 0.00000000e+000, 6.91313415e-310,\n",
       "        6.91313415e-310, 6.91313415e-310],\n",
       "       [6.91313415e-310, 6.91313415e-310, 6.91313415e-310,\n",
       "        6.91313415e-310, 6.91361584e-310],\n",
       "       [6.91361750e-310, 6.91361753e-310, 6.91361752e-310,\n",
       "        6.91361750e-310, 6.91361752e-310],\n",
       "       [6.91361745e-310, 6.91361749e-310, 6.91361749e-310,\n",
       "        6.91361749e-310, 6.91361749e-310]])"
      ]
     },
     "execution_count": 63,
     "metadata": {},
     "output_type": "execute_result"
    }
   ],
   "source": [
    "np.empty((4,5))"
   ]
  },
  {
   "cell_type": "code",
   "execution_count": 66,
   "id": "f80e6e1a-eb36-4d46-adc8-8ca8160d5153",
   "metadata": {},
   "outputs": [
    {
     "data": {
      "text/plain": [
       "array([[1., 0., 0.],\n",
       "       [0., 1., 0.],\n",
       "       [0., 0., 1.]])"
      ]
     },
     "execution_count": 66,
     "metadata": {},
     "output_type": "execute_result"
    }
   ],
   "source": [
    "np.eye(3)"
   ]
  },
  {
   "cell_type": "code",
   "execution_count": 67,
   "id": "0a38a75e-c276-42bd-af18-2f54472ab8c2",
   "metadata": {},
   "outputs": [
    {
     "data": {
      "text/plain": [
       "array([2.        , 2.21428571, 2.42857143, 2.64285714, 2.85714286,\n",
       "       3.07142857, 3.28571429, 3.5       , 3.71428571, 3.92857143,\n",
       "       4.14285714, 4.35714286, 4.57142857, 4.78571429, 5.        ])"
      ]
     },
     "execution_count": 67,
     "metadata": {},
     "output_type": "execute_result"
    }
   ],
   "source": [
    "np.linspace(2,5,15)"
   ]
  },
  {
   "cell_type": "code",
   "execution_count": 69,
   "id": "7faa73eb-c542-4fb3-8c65-db61afbbe28a",
   "metadata": {},
   "outputs": [
    {
     "data": {
      "text/plain": [
       "array([   100.        ,    187.38174229,    351.11917342,    657.93322466,\n",
       "         1232.84673944,   2310.12970008,   4328.76128108,   8111.3083079 ,\n",
       "        15199.11082953,  28480.35868436,  53366.99231206, 100000.        ])"
      ]
     },
     "execution_count": 69,
     "metadata": {},
     "output_type": "execute_result"
    }
   ],
   "source": [
    "#Log function\n",
    "np.logspace(2,5,12)"
   ]
  },
  {
   "cell_type": "code",
   "execution_count": 70,
   "id": "7a0f0547-0330-4b7d-afae-00593c9550e1",
   "metadata": {},
   "outputs": [
    {
     "data": {
      "text/plain": [
       "array([ 4.        ,  4.83235778,  5.83792042,  7.05273004,  8.52032872,\n",
       "       10.29331918, 12.43525025, 15.02289457, 18.14900036, 21.92561576,\n",
       "       26.48810496, 32.        ])"
      ]
     },
     "execution_count": 70,
     "metadata": {},
     "output_type": "execute_result"
    }
   ],
   "source": [
    "np.logspace(2,5,12,base=2)"
   ]
  },
  {
   "cell_type": "code",
   "execution_count": 6,
   "id": "df3a873b-c9c3-4010-839c-2fdaf4021c01",
   "metadata": {},
   "outputs": [],
   "source": [
    "w=np.random.randn(3,4)"
   ]
  },
  {
   "cell_type": "code",
   "execution_count": 7,
   "id": "bfcf9421-593d-4c8d-a1de-d770bc431e64",
   "metadata": {},
   "outputs": [],
   "source": [
    "import pandas as pd"
   ]
  },
  {
   "cell_type": "code",
   "execution_count": 8,
   "id": "a23ebd1d-0f1c-49d2-a272-d38cada8c7ec",
   "metadata": {},
   "outputs": [
    {
     "data": {
      "text/html": [
       "<div>\n",
       "<style scoped>\n",
       "    .dataframe tbody tr th:only-of-type {\n",
       "        vertical-align: middle;\n",
       "    }\n",
       "\n",
       "    .dataframe tbody tr th {\n",
       "        vertical-align: top;\n",
       "    }\n",
       "\n",
       "    .dataframe thead th {\n",
       "        text-align: right;\n",
       "    }\n",
       "</style>\n",
       "<table border=\"1\" class=\"dataframe\">\n",
       "  <thead>\n",
       "    <tr style=\"text-align: right;\">\n",
       "      <th></th>\n",
       "      <th>0</th>\n",
       "      <th>1</th>\n",
       "      <th>2</th>\n",
       "      <th>3</th>\n",
       "    </tr>\n",
       "  </thead>\n",
       "  <tbody>\n",
       "    <tr>\n",
       "      <th>0</th>\n",
       "      <td>0.381056</td>\n",
       "      <td>-0.816405</td>\n",
       "      <td>1.964175</td>\n",
       "      <td>-0.632866</td>\n",
       "    </tr>\n",
       "    <tr>\n",
       "      <th>1</th>\n",
       "      <td>0.281155</td>\n",
       "      <td>-1.369276</td>\n",
       "      <td>-0.262656</td>\n",
       "      <td>-0.483586</td>\n",
       "    </tr>\n",
       "    <tr>\n",
       "      <th>2</th>\n",
       "      <td>0.792773</td>\n",
       "      <td>0.059477</td>\n",
       "      <td>0.104753</td>\n",
       "      <td>-2.085720</td>\n",
       "    </tr>\n",
       "  </tbody>\n",
       "</table>\n",
       "</div>"
      ],
      "text/plain": [
       "          0         1         2         3\n",
       "0  0.381056 -0.816405  1.964175 -0.632866\n",
       "1  0.281155 -1.369276 -0.262656 -0.483586\n",
       "2  0.792773  0.059477  0.104753 -2.085720"
      ]
     },
     "execution_count": 8,
     "metadata": {},
     "output_type": "execute_result"
    }
   ],
   "source": [
    "pd.DataFrame(w)"
   ]
  },
  {
   "cell_type": "code",
   "execution_count": 14,
   "id": "73ac9178-4e6e-4a49-a7ba-cca4324efa98",
   "metadata": {},
   "outputs": [
    {
     "data": {
      "text/plain": [
       "array([[ 0.38105646, -0.81640481,  1.96417481, -0.63286576],\n",
       "       [ 0.28115471, -1.36927649, -0.26265624, -0.48358575],\n",
       "       [ 0.79277277,  0.05947663,  0.1047534 , -2.08572032]])"
      ]
     },
     "execution_count": 14,
     "metadata": {},
     "output_type": "execute_result"
    }
   ],
   "source": [
    "w.reshape(3,4)"
   ]
  },
  {
   "cell_type": "code",
   "execution_count": 15,
   "id": "db50a5bc-222d-4dd0-afc2-0826fc3ac6af",
   "metadata": {},
   "outputs": [
    {
     "data": {
      "text/plain": [
       "-0.2626562358532364"
      ]
     },
     "execution_count": 15,
     "metadata": {},
     "output_type": "execute_result"
    }
   ],
   "source": [
    "w[1][2]"
   ]
  },
  {
   "cell_type": "code",
   "execution_count": 16,
   "id": "945df63e-1adf-4a91-8e97-6774a90fc755",
   "metadata": {},
   "outputs": [],
   "source": [
    "arr=np.random.randint(2,150,(5,5))"
   ]
  },
  {
   "cell_type": "code",
   "execution_count": 17,
   "id": "48bbf9fc-b423-4b2d-92d6-e4db5b6bf4df",
   "metadata": {},
   "outputs": [
    {
     "data": {
      "text/plain": [
       "array([[  7, 107,   4, 145, 110],\n",
       "       [142, 131, 146,  75,  19],\n",
       "       [ 94, 107,  23,  11,   6],\n",
       "       [147,  10, 139, 112,  73],\n",
       "       [135,  49,  49, 130, 124]])"
      ]
     },
     "execution_count": 17,
     "metadata": {},
     "output_type": "execute_result"
    }
   ],
   "source": [
    "arr"
   ]
  },
  {
   "cell_type": "code",
   "execution_count": 18,
   "id": "06bb3614-b108-4faa-9c6d-9b39e4c7d543",
   "metadata": {},
   "outputs": [
    {
     "data": {
      "text/plain": [
       "array([[False,  True, False,  True,  True],\n",
       "       [ True,  True,  True,  True, False],\n",
       "       [ True,  True, False, False, False],\n",
       "       [ True, False,  True,  True,  True],\n",
       "       [ True, False, False,  True,  True]])"
      ]
     },
     "execution_count": 18,
     "metadata": {},
     "output_type": "execute_result"
    }
   ],
   "source": [
    "arr>70"
   ]
  },
  {
   "cell_type": "code",
   "execution_count": 21,
   "id": "75a4630d-b66d-460f-a4f5-2323f2f1d0e4",
   "metadata": {},
   "outputs": [
    {
     "data": {
      "text/plain": [
       "array([107, 145, 110, 142, 131, 146,  75,  94, 107, 147, 139, 112,  73,\n",
       "       135, 130, 124])"
      ]
     },
     "execution_count": 21,
     "metadata": {},
     "output_type": "execute_result"
    }
   ],
   "source": [
    "arr[arr>70]"
   ]
  },
  {
   "cell_type": "code",
   "execution_count": 22,
   "id": "6245a0c7-77ac-472a-90a2-9a5eb07cf2ce",
   "metadata": {},
   "outputs": [
    {
     "data": {
      "text/plain": [
       "array([[  7, 107,   4, 145, 110],\n",
       "       [142, 131, 146,  75,  19],\n",
       "       [ 94, 107,  23,  11,   6],\n",
       "       [147,  10, 139, 112,  73],\n",
       "       [135,  49,  49, 130, 124]])"
      ]
     },
     "execution_count": 22,
     "metadata": {},
     "output_type": "execute_result"
    }
   ],
   "source": [
    "arr"
   ]
  },
  {
   "cell_type": "code",
   "execution_count": 23,
   "id": "8fe2ef7b-87ba-40e0-acb2-9bffbffb6915",
   "metadata": {},
   "outputs": [
    {
     "data": {
      "text/plain": [
       "array([[ 23,  11],\n",
       "       [139, 112]])"
      ]
     },
     "execution_count": 23,
     "metadata": {},
     "output_type": "execute_result"
    }
   ],
   "source": [
    "arr[2:4,[2,3]]"
   ]
  },
  {
   "cell_type": "code",
   "execution_count": 66,
   "id": "12a483be-f4d5-4e15-8e8f-ac4cf7ac5e9f",
   "metadata": {},
   "outputs": [],
   "source": [
    "#Mathematics functions or Binary operation"
   ]
  },
  {
   "cell_type": "code",
   "execution_count": 25,
   "id": "719d5481-3dac-4898-8d3a-0547c5dcb1c7",
   "metadata": {},
   "outputs": [],
   "source": [
    "x=np.random.randint(1,4,(3,3))\n",
    "y=np.random.randint(1,4,(3,3))\n"
   ]
  },
  {
   "cell_type": "code",
   "execution_count": 26,
   "id": "2c2be26a-4b5e-4d15-bb9a-9e7cf7d3e002",
   "metadata": {},
   "outputs": [
    {
     "data": {
      "text/plain": [
       "array([[3, 3, 1],\n",
       "       [1, 1, 1],\n",
       "       [1, 1, 2]])"
      ]
     },
     "execution_count": 26,
     "metadata": {},
     "output_type": "execute_result"
    }
   ],
   "source": [
    "x"
   ]
  },
  {
   "cell_type": "code",
   "execution_count": 27,
   "id": "d93ecbb5-d3d9-4441-a7d0-bd382e36977e",
   "metadata": {},
   "outputs": [
    {
     "data": {
      "text/plain": [
       "array([[1, 3, 3],\n",
       "       [2, 2, 2],\n",
       "       [2, 1, 2]])"
      ]
     },
     "execution_count": 27,
     "metadata": {},
     "output_type": "execute_result"
    }
   ],
   "source": [
    "y"
   ]
  },
  {
   "cell_type": "code",
   "execution_count": 28,
   "id": "1ebbb946-e456-4923-9917-742f6c03269e",
   "metadata": {},
   "outputs": [
    {
     "data": {
      "text/plain": [
       "array([[4, 6, 4],\n",
       "       [3, 3, 3],\n",
       "       [3, 2, 4]])"
      ]
     },
     "execution_count": 28,
     "metadata": {},
     "output_type": "execute_result"
    }
   ],
   "source": [
    "x+y"
   ]
  },
  {
   "cell_type": "code",
   "execution_count": 29,
   "id": "830f28ec-dcc2-4b44-ae18-7290aa93872a",
   "metadata": {},
   "outputs": [
    {
     "data": {
      "text/plain": [
       "array([[ 2,  0, -2],\n",
       "       [-1, -1, -1],\n",
       "       [-1,  0,  0]])"
      ]
     },
     "execution_count": 29,
     "metadata": {},
     "output_type": "execute_result"
    }
   ],
   "source": [
    "x-y"
   ]
  },
  {
   "cell_type": "code",
   "execution_count": 30,
   "id": "0895a02a-8161-4806-a2b6-55548274840d",
   "metadata": {},
   "outputs": [
    {
     "data": {
      "text/plain": [
       "array([[3.        , 1.        , 0.33333333],\n",
       "       [0.5       , 0.5       , 0.5       ],\n",
       "       [0.5       , 1.        , 1.        ]])"
      ]
     },
     "execution_count": 30,
     "metadata": {},
     "output_type": "execute_result"
    }
   ],
   "source": [
    "x/y"
   ]
  },
  {
   "cell_type": "code",
   "execution_count": 31,
   "id": "450d651d-c617-473b-af8a-62d30dce5617",
   "metadata": {},
   "outputs": [
    {
     "data": {
      "text/plain": [
       "array([[3, 9, 3],\n",
       "       [2, 2, 2],\n",
       "       [2, 1, 4]])"
      ]
     },
     "execution_count": 31,
     "metadata": {},
     "output_type": "execute_result"
    }
   ],
   "source": [
    "x*y"
   ]
  },
  {
   "cell_type": "code",
   "execution_count": 67,
   "id": "5fe60070-c1fa-4fb4-a031-c874ed7d1777",
   "metadata": {},
   "outputs": [
    {
     "data": {
      "text/plain": [
       "array([[0, 0, 1],\n",
       "       [1, 1, 1],\n",
       "       [1, 0, 0]])"
      ]
     },
     "execution_count": 67,
     "metadata": {},
     "output_type": "execute_result"
    }
   ],
   "source": [
    "x%y"
   ]
  },
  {
   "cell_type": "code",
   "execution_count": 68,
   "id": "4223a83b-f5cb-4ba5-9bd6-a981bf8e424a",
   "metadata": {},
   "outputs": [
    {
     "data": {
      "text/plain": [
       "array([[ 3, 27,  1],\n",
       "       [ 1,  1,  1],\n",
       "       [ 1,  1,  4]])"
      ]
     },
     "execution_count": 68,
     "metadata": {},
     "output_type": "execute_result"
    }
   ],
   "source": [
    "x**y"
   ]
  },
  {
   "cell_type": "code",
   "execution_count": 69,
   "id": "42aa25d2-7e25-478d-b846-ee8a6a104dd7",
   "metadata": {},
   "outputs": [
    {
     "data": {
      "text/plain": [
       "array([[1, 3, 1],\n",
       "       [0, 0, 0],\n",
       "       [0, 1, 2]])"
      ]
     },
     "execution_count": 69,
     "metadata": {},
     "output_type": "execute_result"
    }
   ],
   "source": [
    "x&y"
   ]
  },
  {
   "cell_type": "code",
   "execution_count": 70,
   "id": "57cd7626-1d0b-42e6-a3fd-6335f4eefb8d",
   "metadata": {},
   "outputs": [
    {
     "data": {
      "text/plain": [
       "array([[-4, -4, -2],\n",
       "       [-2, -2, -2],\n",
       "       [-2, -2, -3]])"
      ]
     },
     "execution_count": 70,
     "metadata": {},
     "output_type": "execute_result"
    }
   ],
   "source": [
    "~x"
   ]
  },
  {
   "cell_type": "code",
   "execution_count": 71,
   "id": "f32fd3f6-ba39-4956-b41b-0375c7d0b3e0",
   "metadata": {},
   "outputs": [
    {
     "data": {
      "text/plain": [
       "array([[3, 3, 3],\n",
       "       [3, 3, 3],\n",
       "       [3, 1, 2]])"
      ]
     },
     "execution_count": 71,
     "metadata": {},
     "output_type": "execute_result"
    }
   ],
   "source": [
    "x|y"
   ]
  },
  {
   "cell_type": "code",
   "execution_count": 32,
   "id": "7cd1bb97-0dca-4c0d-a608-74d8b3bf6192",
   "metadata": {},
   "outputs": [
    {
     "data": {
      "text/plain": [
       "array([[11, 16, 17],\n",
       "       [ 5,  6,  7],\n",
       "       [ 7,  7,  9]])"
      ]
     },
     "execution_count": 32,
     "metadata": {},
     "output_type": "execute_result"
    }
   ],
   "source": [
    "#matrix multiplication\n",
    "x@y"
   ]
  },
  {
   "cell_type": "code",
   "execution_count": null,
   "id": "b29b01de-1a3d-44a5-8c64-ec7982fe1f92",
   "metadata": {},
   "outputs": [],
   "source": []
  },
  {
   "cell_type": "code",
   "execution_count": 33,
   "id": "9c02d08d-7828-41bf-886c-bb46b4914877",
   "metadata": {},
   "outputs": [],
   "source": [
    "#Brodcasting numpy"
   ]
  },
  {
   "cell_type": "code",
   "execution_count": 35,
   "id": "8d1d8d5a-1de8-432e-a64e-428ead0f7a48",
   "metadata": {},
   "outputs": [],
   "source": [
    "v=np.zeros((4,4))"
   ]
  },
  {
   "cell_type": "code",
   "execution_count": 36,
   "id": "3bb5715a-2169-441b-907e-fabc9e1a22f9",
   "metadata": {},
   "outputs": [
    {
     "data": {
      "text/plain": [
       "array([[0., 0., 0., 0.],\n",
       "       [0., 0., 0., 0.],\n",
       "       [0., 0., 0., 0.],\n",
       "       [0., 0., 0., 0.]])"
      ]
     },
     "execution_count": 36,
     "metadata": {},
     "output_type": "execute_result"
    }
   ],
   "source": [
    "v"
   ]
  },
  {
   "cell_type": "code",
   "execution_count": 37,
   "id": "966a205c-8706-4b26-9bd7-61a73c0f2731",
   "metadata": {},
   "outputs": [],
   "source": [
    "p=np.array([1,3,5,7])"
   ]
  },
  {
   "cell_type": "code",
   "execution_count": 38,
   "id": "3e33a484-5dad-4e4a-903b-fa6c8867706f",
   "metadata": {},
   "outputs": [
    {
     "data": {
      "text/plain": [
       "array([1, 3, 5, 7])"
      ]
     },
     "execution_count": 38,
     "metadata": {},
     "output_type": "execute_result"
    }
   ],
   "source": [
    "p"
   ]
  },
  {
   "cell_type": "code",
   "execution_count": 40,
   "id": "27c10621-e44e-4a5e-bfc9-101ef0267b3e",
   "metadata": {},
   "outputs": [],
   "source": [
    "l=v+p"
   ]
  },
  {
   "cell_type": "code",
   "execution_count": 41,
   "id": "c3029ecb-b287-46da-a92f-5a5a032c1fa1",
   "metadata": {},
   "outputs": [
    {
     "data": {
      "text/plain": [
       "array([[1., 3., 5., 7.],\n",
       "       [1., 3., 5., 7.],\n",
       "       [1., 3., 5., 7.],\n",
       "       [1., 3., 5., 7.]])"
      ]
     },
     "execution_count": 41,
     "metadata": {},
     "output_type": "execute_result"
    }
   ],
   "source": [
    "l"
   ]
  },
  {
   "cell_type": "code",
   "execution_count": 42,
   "id": "22f85ab7-bcc7-4998-86e4-7d4445fe0c5c",
   "metadata": {},
   "outputs": [
    {
     "data": {
      "text/plain": [
       "array([[1.        , 1.73205081, 2.23606798, 2.64575131],\n",
       "       [1.        , 1.73205081, 2.23606798, 2.64575131],\n",
       "       [1.        , 1.73205081, 2.23606798, 2.64575131],\n",
       "       [1.        , 1.73205081, 2.23606798, 2.64575131]])"
      ]
     },
     "execution_count": 42,
     "metadata": {},
     "output_type": "execute_result"
    }
   ],
   "source": [
    "np.sqrt(l)"
   ]
  },
  {
   "cell_type": "code",
   "execution_count": 43,
   "id": "92dc2f8f-da50-4ec7-9a4f-985b5d4b253c",
   "metadata": {},
   "outputs": [
    {
     "data": {
      "text/plain": [
       "array([[0.        , 0.47712125, 0.69897   , 0.84509804],\n",
       "       [0.        , 0.47712125, 0.69897   , 0.84509804],\n",
       "       [0.        , 0.47712125, 0.69897   , 0.84509804],\n",
       "       [0.        , 0.47712125, 0.69897   , 0.84509804]])"
      ]
     },
     "execution_count": 43,
     "metadata": {},
     "output_type": "execute_result"
    }
   ],
   "source": [
    "np.log10(l)"
   ]
  },
  {
   "cell_type": "code",
   "execution_count": 44,
   "id": "6f8d8caf-e0ed-4679-939c-df54b428a3ba",
   "metadata": {},
   "outputs": [
    {
     "data": {
      "text/plain": [
       "array([[   2.71828183,   20.08553692,  148.4131591 , 1096.63315843],\n",
       "       [   2.71828183,   20.08553692,  148.4131591 , 1096.63315843],\n",
       "       [   2.71828183,   20.08553692,  148.4131591 , 1096.63315843],\n",
       "       [   2.71828183,   20.08553692,  148.4131591 , 1096.63315843]])"
      ]
     },
     "execution_count": 44,
     "metadata": {},
     "output_type": "execute_result"
    }
   ],
   "source": [
    "np.exp(l)"
   ]
  },
  {
   "cell_type": "code",
   "execution_count": 45,
   "id": "6daca087-1954-4dca-801c-00b5bfe3dce3",
   "metadata": {},
   "outputs": [],
   "source": [
    "#Array Manupulation"
   ]
  },
  {
   "cell_type": "code",
   "execution_count": 46,
   "id": "753bcffa-074e-4fe1-98b8-2b3beb1816b6",
   "metadata": {},
   "outputs": [],
   "source": [
    "arr=np.random.randint(4,14,(3,4))"
   ]
  },
  {
   "cell_type": "code",
   "execution_count": 47,
   "id": "f61b4f1b-62c4-4634-bddf-fc5f4de9986e",
   "metadata": {},
   "outputs": [
    {
     "data": {
      "text/plain": [
       "array([[ 5, 12,  9,  4],\n",
       "       [11, 12,  7, 13],\n",
       "       [ 5,  5,  4,  7]])"
      ]
     },
     "execution_count": 47,
     "metadata": {},
     "output_type": "execute_result"
    }
   ],
   "source": [
    "arr"
   ]
  },
  {
   "cell_type": "code",
   "execution_count": 48,
   "id": "fbe61f08-ffc9-4496-8c52-89c759db12cc",
   "metadata": {},
   "outputs": [
    {
     "data": {
      "text/plain": [
       "array([[ 5, 12,  9,  4, 11, 12],\n",
       "       [ 7, 13,  5,  5,  4,  7]])"
      ]
     },
     "execution_count": 48,
     "metadata": {},
     "output_type": "execute_result"
    }
   ],
   "source": [
    "arr.reshape(2,6)"
   ]
  },
  {
   "cell_type": "code",
   "execution_count": 49,
   "id": "a4c1ca0a-42c8-4104-8cbb-16abad6740aa",
   "metadata": {},
   "outputs": [
    {
     "data": {
      "text/plain": [
       "array([[ 5, 12],\n",
       "       [ 9,  4],\n",
       "       [11, 12],\n",
       "       [ 7, 13],\n",
       "       [ 5,  5],\n",
       "       [ 4,  7]])"
      ]
     },
     "execution_count": 49,
     "metadata": {},
     "output_type": "execute_result"
    }
   ],
   "source": [
    "arr.reshape(6,2)"
   ]
  },
  {
   "cell_type": "code",
   "execution_count": 50,
   "id": "cac4a661-8192-4b4b-bb88-b9a30bbbda24",
   "metadata": {},
   "outputs": [
    {
     "data": {
      "text/plain": [
       "array([[ 5, 11,  5],\n",
       "       [12, 12,  5],\n",
       "       [ 9,  7,  4],\n",
       "       [ 4, 13,  7]])"
      ]
     },
     "execution_count": 50,
     "metadata": {},
     "output_type": "execute_result"
    }
   ],
   "source": [
    "arr.T"
   ]
  },
  {
   "cell_type": "code",
   "execution_count": 51,
   "id": "99bc96e6-e83e-4f76-8322-abe529811fea",
   "metadata": {},
   "outputs": [
    {
     "data": {
      "text/plain": [
       "array([ 5, 12,  9,  4, 11, 12,  7, 13,  5,  5,  4,  7])"
      ]
     },
     "execution_count": 51,
     "metadata": {},
     "output_type": "execute_result"
    }
   ],
   "source": [
    "arr.flatten()"
   ]
  },
  {
   "cell_type": "code",
   "execution_count": 52,
   "id": "e2725818-bbf3-4bae-b3db-55b97179c0c5",
   "metadata": {},
   "outputs": [],
   "source": [
    "#expand dimentions1D to 2D\n",
    "arr1=np.array([5,9,8,3,8])"
   ]
  },
  {
   "cell_type": "code",
   "execution_count": 53,
   "id": "d3149aa4-286f-4916-844c-7a3e1b9d7ee8",
   "metadata": {},
   "outputs": [
    {
     "data": {
      "text/plain": [
       "array([5, 9, 8, 3, 8])"
      ]
     },
     "execution_count": 53,
     "metadata": {},
     "output_type": "execute_result"
    }
   ],
   "source": [
    "arr1"
   ]
  },
  {
   "cell_type": "code",
   "execution_count": 55,
   "id": "6e8ea890-21ee-40a3-8458-143fca799347",
   "metadata": {},
   "outputs": [
    {
     "data": {
      "text/plain": [
       "array([[5],\n",
       "       [9],\n",
       "       [8],\n",
       "       [3],\n",
       "       [8]])"
      ]
     },
     "execution_count": 55,
     "metadata": {},
     "output_type": "execute_result"
    }
   ],
   "source": [
    "np.expand_dims(arr1,axis=1)"
   ]
  },
  {
   "cell_type": "code",
   "execution_count": 56,
   "id": "5d4b4392-1552-42cc-b2ca-e10d40a6ec41",
   "metadata": {},
   "outputs": [
    {
     "data": {
      "text/plain": [
       "array([[5, 9, 8, 3, 8]])"
      ]
     },
     "execution_count": 56,
     "metadata": {},
     "output_type": "execute_result"
    }
   ],
   "source": [
    "np.expand_dims(arr1,axis=0)"
   ]
  },
  {
   "cell_type": "code",
   "execution_count": 57,
   "id": "f678865b-74e6-48e4-91b4-8e86cfaf3b71",
   "metadata": {},
   "outputs": [
    {
     "data": {
      "text/plain": [
       "array([[ 5, 12,  9,  4],\n",
       "       [11, 12,  7, 13],\n",
       "       [ 5,  5,  4,  7]])"
      ]
     },
     "execution_count": 57,
     "metadata": {},
     "output_type": "execute_result"
    }
   ],
   "source": [
    "np.squeeze(arr)"
   ]
  },
  {
   "cell_type": "code",
   "execution_count": 59,
   "id": "ef3faa5b-f199-406b-9d46-b770a73d8301",
   "metadata": {},
   "outputs": [],
   "source": [
    "w=np.array([[1],[4],[5]])"
   ]
  },
  {
   "cell_type": "code",
   "execution_count": 60,
   "id": "bb2581bb-756f-4e24-b483-fd31a037e678",
   "metadata": {},
   "outputs": [
    {
     "data": {
      "text/plain": [
       "array([[1],\n",
       "       [4],\n",
       "       [5]])"
      ]
     },
     "execution_count": 60,
     "metadata": {},
     "output_type": "execute_result"
    }
   ],
   "source": [
    "w"
   ]
  },
  {
   "cell_type": "code",
   "execution_count": 61,
   "id": "905f616d-998b-4077-975e-028727dd229b",
   "metadata": {},
   "outputs": [
    {
     "data": {
      "text/plain": [
       "array([1, 4, 5])"
      ]
     },
     "execution_count": 61,
     "metadata": {},
     "output_type": "execute_result"
    }
   ],
   "source": [
    "np.squeeze(w)"
   ]
  },
  {
   "cell_type": "code",
   "execution_count": 62,
   "id": "b23d7cb4-35ca-4107-ac25-df19e2d3ac83",
   "metadata": {},
   "outputs": [
    {
     "data": {
      "text/plain": [
       "array([1, 1, 4, 4, 5, 5])"
      ]
     },
     "execution_count": 62,
     "metadata": {},
     "output_type": "execute_result"
    }
   ],
   "source": [
    "np.repeat(w,2)"
   ]
  },
  {
   "cell_type": "code",
   "execution_count": 65,
   "id": "ce8f2a25-ed48-45d1-bcff-77501045255b",
   "metadata": {},
   "outputs": [
    {
     "data": {
      "text/plain": [
       "array([[1],\n",
       "       [4],\n",
       "       [5]])"
      ]
     },
     "execution_count": 65,
     "metadata": {},
     "output_type": "execute_result"
    }
   ],
   "source": [
    "np.roll(w,3)"
   ]
  },
  {
   "cell_type": "code",
   "execution_count": 72,
   "id": "f94038c5-231d-4f99-8546-d4706fcd1c38",
   "metadata": {},
   "outputs": [],
   "source": [
    "#String operation"
   ]
  },
  {
   "cell_type": "code",
   "execution_count": 73,
   "id": "cd58c896-96ed-45fa-b0f5-285d25772873",
   "metadata": {},
   "outputs": [],
   "source": [
    "arr1=np.array(['vinit','kumar','chauhan'])"
   ]
  },
  {
   "cell_type": "code",
   "execution_count": 74,
   "id": "198ac228-31b7-4acb-a97d-68f52e2cf45b",
   "metadata": {},
   "outputs": [
    {
     "data": {
      "text/plain": [
       "array(['vinit', 'kumar', 'chauhan'], dtype='<U7')"
      ]
     },
     "execution_count": 74,
     "metadata": {},
     "output_type": "execute_result"
    }
   ],
   "source": [
    "arr1"
   ]
  },
  {
   "cell_type": "code",
   "execution_count": 75,
   "id": "be5408cf-459e-4aff-88ab-05c00a9f6648",
   "metadata": {},
   "outputs": [
    {
     "data": {
      "text/plain": [
       "array(['VINIT', 'KUMAR', 'CHAUHAN'], dtype='<U7')"
      ]
     },
     "execution_count": 75,
     "metadata": {},
     "output_type": "execute_result"
    }
   ],
   "source": [
    "np.char.upper(arr1)"
   ]
  },
  {
   "cell_type": "code",
   "execution_count": 76,
   "id": "e8ae4baa-77e6-4149-b1a3-6499cefdf47c",
   "metadata": {},
   "outputs": [
    {
     "data": {
      "text/plain": [
       "array(['Vinit', 'Kumar', 'Chauhan'], dtype='<U7')"
      ]
     },
     "execution_count": 76,
     "metadata": {},
     "output_type": "execute_result"
    }
   ],
   "source": [
    "np.char.title(arr1)"
   ]
  },
  {
   "cell_type": "code",
   "execution_count": 79,
   "id": "5823c5f2-614c-4ae5-8e8c-eb4e3a120eec",
   "metadata": {},
   "outputs": [
    {
     "data": {
      "text/plain": [
       "array(['Vinit', 'Kumar', 'Chauhan'], dtype='<U7')"
      ]
     },
     "execution_count": 79,
     "metadata": {},
     "output_type": "execute_result"
    }
   ],
   "source": [
    "np.char.capitalize(arr1)"
   ]
  },
  {
   "cell_type": "code",
   "execution_count": 81,
   "id": "c5b94201-9444-4978-8afb-84827b434a82",
   "metadata": {},
   "outputs": [],
   "source": [
    "# Trignometric function"
   ]
  },
  {
   "cell_type": "code",
   "execution_count": 82,
   "id": "50f54f84-18d5-4625-bd9e-4f28255be571",
   "metadata": {},
   "outputs": [],
   "source": [
    "b=np.random.randint(1,4,(3,3))"
   ]
  },
  {
   "cell_type": "code",
   "execution_count": 83,
   "id": "4d8cd3dc-995e-4056-8cf3-ea179d3c55fe",
   "metadata": {},
   "outputs": [
    {
     "data": {
      "text/plain": [
       "array([[2, 1, 2],\n",
       "       [3, 3, 3],\n",
       "       [1, 1, 2]])"
      ]
     },
     "execution_count": 83,
     "metadata": {},
     "output_type": "execute_result"
    }
   ],
   "source": [
    "b"
   ]
  },
  {
   "cell_type": "code",
   "execution_count": 84,
   "id": "8e7d228e-7f40-4529-94e2-78e9f242f5a1",
   "metadata": {},
   "outputs": [
    {
     "data": {
      "text/plain": [
       "array([[0.90929743, 0.84147098, 0.90929743],\n",
       "       [0.14112001, 0.14112001, 0.14112001],\n",
       "       [0.84147098, 0.84147098, 0.90929743]])"
      ]
     },
     "execution_count": 84,
     "metadata": {},
     "output_type": "execute_result"
    }
   ],
   "source": [
    "np.sin(b)"
   ]
  },
  {
   "cell_type": "code",
   "execution_count": 85,
   "id": "a36cb459-4da7-41c9-8551-a32b39ec611c",
   "metadata": {},
   "outputs": [
    {
     "data": {
      "text/plain": [
       "array([[-0.41614684,  0.54030231, -0.41614684],\n",
       "       [-0.9899925 , -0.9899925 , -0.9899925 ],\n",
       "       [ 0.54030231,  0.54030231, -0.41614684]])"
      ]
     },
     "execution_count": 85,
     "metadata": {},
     "output_type": "execute_result"
    }
   ],
   "source": [
    "np.cos(b)"
   ]
  },
  {
   "cell_type": "code",
   "execution_count": 86,
   "id": "458b755c-cafb-4b87-bc37-fdcad1561ad8",
   "metadata": {},
   "outputs": [
    {
     "data": {
      "text/plain": [
       "array([[-2.18503986,  1.55740772, -2.18503986],\n",
       "       [-0.14254654, -0.14254654, -0.14254654],\n",
       "       [ 1.55740772,  1.55740772, -2.18503986]])"
      ]
     },
     "execution_count": 86,
     "metadata": {},
     "output_type": "execute_result"
    }
   ],
   "source": [
    "np.tan(b)"
   ]
  },
  {
   "cell_type": "code",
   "execution_count": 87,
   "id": "368d04c0-1ee5-47fb-878a-915a6dcdf2ab",
   "metadata": {},
   "outputs": [
    {
     "data": {
      "text/plain": [
       "array([[0.96402758, 0.76159416, 0.96402758],\n",
       "       [0.99505475, 0.99505475, 0.99505475],\n",
       "       [0.76159416, 0.76159416, 0.96402758]])"
      ]
     },
     "execution_count": 87,
     "metadata": {},
     "output_type": "execute_result"
    }
   ],
   "source": [
    "np.tanh(b)"
   ]
  },
  {
   "cell_type": "code",
   "execution_count": 89,
   "id": "4da87c95-debb-4475-82e5-7d9b474a72ee",
   "metadata": {},
   "outputs": [
    {
     "data": {
      "text/plain": [
       "array([[ 8,  1,  8],\n",
       "       [27, 27, 27],\n",
       "       [ 1,  1,  8]])"
      ]
     },
     "execution_count": 89,
     "metadata": {},
     "output_type": "execute_result"
    }
   ],
   "source": [
    "np.power(b,3)"
   ]
  },
  {
   "cell_type": "code",
   "execution_count": 90,
   "id": "cd203822-e7d3-45b3-be2f-fb8792fc02ce",
   "metadata": {},
   "outputs": [
    {
     "data": {
      "text/plain": [
       "2.0"
      ]
     },
     "execution_count": 90,
     "metadata": {},
     "output_type": "execute_result"
    }
   ],
   "source": [
    "np.mean(b)"
   ]
  },
  {
   "cell_type": "code",
   "execution_count": 91,
   "id": "ca8003e4-e80d-482d-8138-c0e81199d1f4",
   "metadata": {},
   "outputs": [
    {
     "data": {
      "text/plain": [
       "2.0"
      ]
     },
     "execution_count": 91,
     "metadata": {},
     "output_type": "execute_result"
    }
   ],
   "source": [
    "np.median(b)"
   ]
  },
  {
   "cell_type": "code",
   "execution_count": 92,
   "id": "3c1279e3-eb5f-4fab-9f93-eaca0d4ac1b8",
   "metadata": {},
   "outputs": [
    {
     "data": {
      "text/plain": [
       "0.816496580927726"
      ]
     },
     "execution_count": 92,
     "metadata": {},
     "output_type": "execute_result"
    }
   ],
   "source": [
    "np.std(b)"
   ]
  },
  {
   "cell_type": "code",
   "execution_count": 93,
   "id": "225b4370-e812-42bf-acee-0940b818a8bc",
   "metadata": {},
   "outputs": [
    {
     "data": {
      "text/plain": [
       "0.6666666666666666"
      ]
     },
     "execution_count": 93,
     "metadata": {},
     "output_type": "execute_result"
    }
   ],
   "source": [
    "np.var(b)"
   ]
  },
  {
   "cell_type": "code",
   "execution_count": 94,
   "id": "d8a91695-fc9e-4037-8f44-cbf26def67f5",
   "metadata": {},
   "outputs": [],
   "source": [
    "#short,search and counting"
   ]
  },
  {
   "cell_type": "code",
   "execution_count": 95,
   "id": "ee8dd466-d6de-49ff-a830-70ad902e535a",
   "metadata": {},
   "outputs": [],
   "source": [
    "arr2=np.array([2,4,6,3,1,7,9,66,44,87,34,56,86,88,456,234,12,33])"
   ]
  },
  {
   "cell_type": "code",
   "execution_count": 96,
   "id": "b1dafb38-91e6-4c5f-a23e-0c39343342de",
   "metadata": {},
   "outputs": [
    {
     "data": {
      "text/plain": [
       "array([  2,   4,   6,   3,   1,   7,   9,  66,  44,  87,  34,  56,  86,\n",
       "        88, 456, 234,  12,  33])"
      ]
     },
     "execution_count": 96,
     "metadata": {},
     "output_type": "execute_result"
    }
   ],
   "source": [
    "arr2"
   ]
  },
  {
   "cell_type": "code",
   "execution_count": 99,
   "id": "951c898b-a90b-42f4-87f0-1935edf832ca",
   "metadata": {},
   "outputs": [
    {
     "data": {
      "text/plain": [
       "array([  1,   2,   3,   4,   6,   7,   9,  12,  33,  34,  44,  56,  66,\n",
       "        86,  87,  88, 234, 456])"
      ]
     },
     "execution_count": 99,
     "metadata": {},
     "output_type": "execute_result"
    }
   ],
   "source": [
    "np.sort(arr2)"
   ]
  },
  {
   "cell_type": "code",
   "execution_count": 100,
   "id": "679c5c24-f13f-454a-8e30-6f488aaef8b8",
   "metadata": {},
   "outputs": [
    {
     "data": {
      "text/plain": [
       "7"
      ]
     },
     "execution_count": 100,
     "metadata": {},
     "output_type": "execute_result"
    }
   ],
   "source": [
    "np.searchsorted(arr2,32)"
   ]
  },
  {
   "cell_type": "code",
   "execution_count": 103,
   "id": "538e211c-85da-40c7-9c4b-7e98f4caa4e1",
   "metadata": {},
   "outputs": [
    {
     "data": {
      "text/plain": [
       "(array([ 7,  9, 11, 12, 13, 14, 15]),)"
      ]
     },
     "execution_count": 103,
     "metadata": {},
     "output_type": "execute_result"
    }
   ],
   "source": [
    "np.where(arr2>45)"
   ]
  },
  {
   "cell_type": "code",
   "execution_count": 105,
   "id": "6fd32312-ffa5-46de-ba14-f04399495fdd",
   "metadata": {},
   "outputs": [
    {
     "data": {
      "text/plain": [
       "array([ 66,  87,  56,  86,  88, 456, 234])"
      ]
     },
     "execution_count": 105,
     "metadata": {},
     "output_type": "execute_result"
    }
   ],
   "source": [
    "np.extract(arr2>45,arr2)"
   ]
  },
  {
   "cell_type": "code",
   "execution_count": null,
   "id": "68673450-428e-445f-850c-bd2b532eac0c",
   "metadata": {},
   "outputs": [],
   "source": []
  }
 ],
 "metadata": {
  "kernelspec": {
   "display_name": "Python 3 (ipykernel)",
   "language": "python",
   "name": "python3"
  },
  "language_info": {
   "codemirror_mode": {
    "name": "ipython",
    "version": 3
   },
   "file_extension": ".py",
   "mimetype": "text/x-python",
   "name": "python",
   "nbconvert_exporter": "python",
   "pygments_lexer": "ipython3",
   "version": "3.10.8"
  }
 },
 "nbformat": 4,
 "nbformat_minor": 5
}
